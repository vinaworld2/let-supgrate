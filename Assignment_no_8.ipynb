{
  "nbformat": 4,
  "nbformat_minor": 0,
  "metadata": {
    "colab": {
      "name": "Assignment no 8",
      "provenance": [],
      "collapsed_sections": [],
      "authorship_tag": "ABX9TyO0h9LZ6jMv+VMHznFLqyqo",
      "include_colab_link": true
    },
    "kernelspec": {
      "name": "python3",
      "display_name": "Python 3"
    }
  },
  "cells": [
    {
      "cell_type": "markdown",
      "metadata": {
        "id": "view-in-github",
        "colab_type": "text"
      },
      "source": [
        "<a href=\"https://colab.research.google.com/github/vinaworld2/let-supgrate/blob/master/Assignment_no_8.ipynb\" target=\"_parent\"><img src=\"https://colab.research.google.com/assets/colab-badge.svg\" alt=\"Open In Colab\"/></a>"
      ]
    },
    {
      "cell_type": "code",
      "metadata": {
        "id": "-FUWuFYfuQ5Y",
        "colab_type": "code",
        "colab": {}
      },
      "source": [
        "Assignment no 8"
      ],
      "execution_count": null,
      "outputs": []
    },
    {
      "cell_type": "code",
      "metadata": {
        "id": "eXOcNj8GuU3x",
        "colab_type": "code",
        "colab": {}
      },
      "source": [
        " def recur_cache(func):\n",
        "    cache = {}\n",
        "    def wrapper(arg):\n",
        "        if arg not in cache:\n",
        "            cache[arg] = func(arg)\n",
        "        return cache[arg]\n",
        "    return wrapper\n",
        " \n",
        " \n",
        "@recur_cache\n",
        "def fib(N):\n",
        "    \n",
        "    if N < 0 or N == None : \n",
        "           return None\n",
        "    if N < 2: \n",
        "           return N\n",
        "    else:\n",
        "        return fib(N-1) + fib(N-2)"
      ],
      "execution_count": 11,
      "outputs": []
    },
    {
      "cell_type": "code",
      "metadata": {
        "id": "KMwXn19UusyH",
        "colab_type": "code",
        "colab": {
          "base_uri": "https://localhost:8080/",
          "height": 34
        },
        "outputId": "216624cc-e20b-4ccc-a58e-d20e1eabca61"
      },
      "source": [
        "fib(3)"
      ],
      "execution_count": 12,
      "outputs": [
        {
          "output_type": "execute_result",
          "data": {
            "text/plain": [
              "2"
            ]
          },
          "metadata": {
            "tags": []
          },
          "execution_count": 12
        }
      ]
    },
    {
      "cell_type": "code",
      "metadata": {
        "id": "1Yc_zYXGu-zC",
        "colab_type": "code",
        "colab": {}
      },
      "source": [
        "Que 2"
      ],
      "execution_count": null,
      "outputs": []
    },
    {
      "cell_type": "code",
      "metadata": {
        "id": "pPl26NiXvAFY",
        "colab_type": "code",
        "colab": {}
      },
      "source": [
        " file=open(\"vinaya.txt\",\"w\") \n",
        "file.write(\"Hi, i am vinaya Bhosale  learning python\") \n",
        "file.close()"
      ],
      "execution_count": 13,
      "outputs": []
    },
    {
      "cell_type": "code",
      "metadata": {
        "id": "L2wJQTAYvSvZ",
        "colab_type": "code",
        "colab": {
          "base_uri": "https://localhost:8080/",
          "height": 54
        },
        "outputId": "45f32ff9-1d33-4918-8af2-e5c37b251617"
      },
      "source": [
        "file = open(\"vinaya.txt\",\"r\")\n",
        "fileData = file.read()\n",
        "print(fileData)\n",
        "file.close()"
      ],
      "execution_count": 14,
      "outputs": [
        {
          "output_type": "stream",
          "text": [
            "Hi, i am vinaya Bhosale  learning python\n"
          ],
          "name": "stdout"
        }
      ]
    },
    {
      "cell_type": "code",
      "metadata": {
        "id": "b3xQsSBWvdOn",
        "colab_type": "code",
        "colab": {
          "base_uri": "https://localhost:8080/",
          "height": 34
        },
        "outputId": "06d01f92-2977-4c9d-a9b6-304fb5e3b546"
      },
      "source": [
        "try :\n",
        "    file = open(\"vinaya.txt\",\"r\")\n",
        "    file.write(\"Hellow\")\n",
        "    file.close()\n",
        "except Exception as e:\n",
        "    print(e)"
      ],
      "execution_count": 15,
      "outputs": [
        {
          "output_type": "stream",
          "text": [
            "not writable\n"
          ],
          "name": "stdout"
        }
      ]
    }
  ]
}