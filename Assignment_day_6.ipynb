{
  "nbformat": 4,
  "nbformat_minor": 0,
  "metadata": {
    "colab": {
      "name": "Assignment day 6",
      "provenance": [],
      "collapsed_sections": [],
      "authorship_tag": "ABX9TyN+0EQztlfZYh4zkGC4rhNW",
      "include_colab_link": true
    },
    "kernelspec": {
      "name": "python3",
      "display_name": "Python 3"
    }
  },
  "cells": [
    {
      "cell_type": "markdown",
      "metadata": {
        "id": "view-in-github",
        "colab_type": "text"
      },
      "source": [
        "<a href=\"https://colab.research.google.com/github/vinaworld2/let-supgrate/blob/master/Assignment_day_6.ipynb\" target=\"_parent\"><img src=\"https://colab.research.google.com/assets/colab-badge.svg\" alt=\"Open In Colab\"/></a>"
      ]
    },
    {
      "cell_type": "code",
      "metadata": {
        "id": "bO5ehFHqwzQX",
        "colab_type": "code",
        "colab": {}
      },
      "source": [
        "Assignment day 6"
      ],
      "execution_count": null,
      "outputs": []
    },
    {
      "cell_type": "code",
      "metadata": {
        "id": "13BDoh3xyuK2",
        "colab_type": "code",
        "colab": {}
      },
      "source": [
        " class Bank_Account: \n",
        " \n",
        "    def __init__(self): \n",
        " \n",
        "        self.balance=0\n",
        " \n",
        "        print(\"Hello!!! Welcome to the Deposit & Withdrawal Machine\") \n",
        " \n",
        "  \n",
        " \n",
        "    def deposit(self): \n",
        " \n",
        "        amount=float(input(\"Enter amount to be Deposited: \")) \n",
        " \n",
        "        self.balance += amount \n",
        " \n",
        "        print(\"\\n Amount Deposited:\",amount) \n",
        " \n",
        "  \n",
        " \n",
        "    def withdraw(self): \n",
        " \n",
        "        amount = float(input(\"Enter amount to be Withdrawn: \")) \n",
        " \n",
        "        if self.balance>=amount: \n",
        " \n",
        "            self.balance-=amount \n",
        " \n",
        "            print(\"\\n You Withdrew:\", amount) \n",
        " \n",
        "        else: \n",
        " \n",
        "            print(\"\\n Insufficient balance  \") \n",
        " \n",
        "  \n",
        " \n",
        "    def display(self): \n",
        " \n",
        "        print(\"\\n Net Available Balance=\",self.balance)"
      ],
      "execution_count": null,
      "outputs": []
    },
    {
      "cell_type": "code",
      "metadata": {
        "id": "m9gNo74vxFLG",
        "colab_type": "code",
        "colab": {
          "base_uri": "https://localhost:8080/",
          "height": 54
        },
        "outputId": "23e135a1-9706-449f-9a99-a70da3fc27ae"
      },
      "source": [
        "m=Bank_Account()"
      ],
      "execution_count": 21,
      "outputs": [
        {
          "output_type": "stream",
          "text": [
            "Hello!!! Welcome to the Deposit & Withdrawal Machine\n"
          ],
          "name": "stdout"
        }
      ]
    },
    {
      "cell_type": "code",
      "metadata": {
        "id": "W7TtpKi2z27_",
        "colab_type": "code",
        "colab": {
          "base_uri": "https://localhost:8080/",
          "height": 193
        },
        "outputId": "01f2efa9-d543-4bba-f495-0c518e078b61"
      },
      "source": [
        "m.deposit() \n",
        "m.withdraw() \n",
        "m.display()"
      ],
      "execution_count": 20,
      "outputs": [
        {
          "output_type": "stream",
          "text": [
            "Enter amount to be Deposited: 2000\n",
            "\n",
            " Amount Deposited: 2000.0\n",
            "Enter amount to be Withdrawn: 1678\n",
            "\n",
            " You Withdrew: 1678.0\n",
            "\n",
            " Net Available Balance= 322.0\n"
          ],
          "name": "stdout"
        }
      ]
    },
    {
      "cell_type": "code",
      "metadata": {
        "id": "rGcUwTo_zQd-",
        "colab_type": "code",
        "colab": {}
      },
      "source": [
        "Que no 2"
      ],
      "execution_count": null,
      "outputs": []
    },
    {
      "cell_type": "code",
      "metadata": {
        "id": "vbxPL_iQxwjv",
        "colab_type": "code",
        "colab": {
          "base_uri": "https://localhost:8080/",
          "height": 51
        },
        "outputId": "1faea1f9-eff0-4658-fde3-71f8d94baa07"
      },
      "source": [
        "import math\n",
        "class cone():\n",
        "    def __init__(self, r, h):\n",
        "        self.radius = r\n",
        "        self.height= h\n",
        "         \n",
        "    def area(self):\n",
        "        return 3.14*self.radius*(self.radius+math.sqrt(self.height*self.height +self.radius*self.radius))\n",
        "    \n",
        "    def volume(self):\n",
        "        return (1/3)* 3.14 *self.radius *self.radius * self.height\n",
        " \n",
        "Newcone = cone(2,3)\n",
        "print(Newcone.area())\n",
        "print(Newcone.volume())"
      ],
      "execution_count": null,
      "outputs": [
        {
          "output_type": "stream",
          "text": [
            "35.20286200991386\n",
            "12.559999999999999\n"
          ],
          "name": "stdout"
        }
      ]
    }
  ]
}